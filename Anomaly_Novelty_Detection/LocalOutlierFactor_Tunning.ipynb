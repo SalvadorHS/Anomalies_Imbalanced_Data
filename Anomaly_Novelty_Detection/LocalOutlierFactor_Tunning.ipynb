{
 "cells": [
  {
   "cell_type": "markdown",
   "id": "d8b8cbe6",
   "metadata": {},
   "source": [
    "# Local Outlier Factor"
   ]
  },
  {
   "cell_type": "code",
   "execution_count": 9,
   "id": "d6002880",
   "metadata": {},
   "outputs": [],
   "source": [
    "import warnings\n",
    "import numpy as np \n",
    "import pandas as pd \n",
    "from sklearn.model_selection import KFold, GridSearchCV\n",
    " \n",
    "warnings.filterwarnings('ignore')\n",
    "\n",
    "df_train = pd.read_csv('train.csv')"
   ]
  },
  {
   "cell_type": "markdown",
   "id": "67aebfd4",
   "metadata": {},
   "source": [
    "- Data Pre-processing"
   ]
  },
  {
   "cell_type": "code",
   "execution_count": 10,
   "id": "23c82edf",
   "metadata": {},
   "outputs": [
    {
     "data": {
      "text/html": [
       "<div>\n",
       "<style scoped>\n",
       "    .dataframe tbody tr th:only-of-type {\n",
       "        vertical-align: middle;\n",
       "    }\n",
       "\n",
       "    .dataframe tbody tr th {\n",
       "        vertical-align: top;\n",
       "    }\n",
       "\n",
       "    .dataframe thead th {\n",
       "        text-align: right;\n",
       "    }\n",
       "</style>\n",
       "<table border=\"1\" class=\"dataframe\">\n",
       "  <thead>\n",
       "    <tr style=\"text-align: right;\">\n",
       "      <th></th>\n",
       "      <th>timestamp</th>\n",
       "      <th>value</th>\n",
       "      <th>predicted</th>\n",
       "      <th>Is_anomaly</th>\n",
       "    </tr>\n",
       "  </thead>\n",
       "  <tbody>\n",
       "    <tr>\n",
       "      <th>0</th>\n",
       "      <td>1425008573</td>\n",
       "      <td>42</td>\n",
       "      <td>44.072500</td>\n",
       "      <td>0</td>\n",
       "    </tr>\n",
       "    <tr>\n",
       "      <th>1</th>\n",
       "      <td>1425008873</td>\n",
       "      <td>41</td>\n",
       "      <td>50.709390</td>\n",
       "      <td>0</td>\n",
       "    </tr>\n",
       "    <tr>\n",
       "      <th>2</th>\n",
       "      <td>1425009173</td>\n",
       "      <td>41</td>\n",
       "      <td>81.405120</td>\n",
       "      <td>0</td>\n",
       "    </tr>\n",
       "    <tr>\n",
       "      <th>3</th>\n",
       "      <td>1425009473</td>\n",
       "      <td>61</td>\n",
       "      <td>39.950367</td>\n",
       "      <td>0</td>\n",
       "    </tr>\n",
       "    <tr>\n",
       "      <th>4</th>\n",
       "      <td>1425009773</td>\n",
       "      <td>44</td>\n",
       "      <td>35.350160</td>\n",
       "      <td>0</td>\n",
       "    </tr>\n",
       "    <tr>\n",
       "      <th>5</th>\n",
       "      <td>1425010073</td>\n",
       "      <td>27</td>\n",
       "      <td>27.713638</td>\n",
       "      <td>0</td>\n",
       "    </tr>\n",
       "    <tr>\n",
       "      <th>6</th>\n",
       "      <td>1425010373</td>\n",
       "      <td>37</td>\n",
       "      <td>41.545710</td>\n",
       "      <td>0</td>\n",
       "    </tr>\n",
       "    <tr>\n",
       "      <th>7</th>\n",
       "      <td>1425010673</td>\n",
       "      <td>36</td>\n",
       "      <td>38.743620</td>\n",
       "      <td>0</td>\n",
       "    </tr>\n",
       "    <tr>\n",
       "      <th>8</th>\n",
       "      <td>1425010973</td>\n",
       "      <td>49</td>\n",
       "      <td>40.859787</td>\n",
       "      <td>0</td>\n",
       "    </tr>\n",
       "    <tr>\n",
       "      <th>9</th>\n",
       "      <td>1425011273</td>\n",
       "      <td>36</td>\n",
       "      <td>25.444733</td>\n",
       "      <td>0</td>\n",
       "    </tr>\n",
       "  </tbody>\n",
       "</table>\n",
       "</div>"
      ],
      "text/plain": [
       "    timestamp  value  predicted  Is_anomaly\n",
       "0  1425008573     42  44.072500           0\n",
       "1  1425008873     41  50.709390           0\n",
       "2  1425009173     41  81.405120           0\n",
       "3  1425009473     61  39.950367           0\n",
       "4  1425009773     44  35.350160           0\n",
       "5  1425010073     27  27.713638           0\n",
       "6  1425010373     37  41.545710           0\n",
       "7  1425010673     36  38.743620           0\n",
       "8  1425010973     49  40.859787           0\n",
       "9  1425011273     36  25.444733           0"
      ]
     },
     "execution_count": 10,
     "metadata": {},
     "output_type": "execute_result"
    }
   ],
   "source": [
    "df_train['is_anomaly'] = df_train['is_anomaly'].replace(False,0).replace(True,1)\n",
    "df_train[\"Is_anomaly\"] = df_train['is_anomaly'].values\n",
    "\n",
    "df_train.drop('is_anomaly', axis = 1 ,inplace = True)\n",
    "\n",
    "X_train = df_train[['timestamp','value','predicted']]\n",
    "y_train = df_train['Is_anomaly']\n",
    "df_train.head(10)"
   ]
  },
  {
   "cell_type": "markdown",
   "id": "db8875e3",
   "metadata": {},
   "source": [
    "- Hyper-parameter Tunning"
   ]
  },
  {
   "cell_type": "code",
   "execution_count": 3,
   "id": "0c27442b",
   "metadata": {},
   "outputs": [
    {
     "name": "stdout",
     "output_type": "stream",
     "text": [
      "Fitting 10 folds for each of 324 candidates, totalling 3240 fits\n"
     ]
    }
   ],
   "source": [
    "from sklearn.neighbors import LocalOutlierFactor\n",
    "# Specify values for the tunning process\n",
    "kfold = KFold(n_splits = 10, shuffle = True, random_state = 99)\n",
    "\n",
    "n_neighbors   = [2, 5, 10] \n",
    "algorithm     = ['brute', 'kd_tree','ball_tree']\n",
    "leaf_size     = [10, 15, 20]\n",
    "metric        = ['minkowski']\n",
    "p             = [1, 2, 3, 4]      \n",
    "contamination = [0.03, 0.05, 0.1]\n",
    "\n",
    "#Create parameter grid\n",
    "LOF_grid = {'n_neighbors'  :n_neighbors,\n",
    "            'algorithm'    :algorithm,\n",
    "            'leaf_size'    :leaf_size,\n",
    "            'metric'       :metric,\n",
    "            'p'            :p,\n",
    "            'contamination':contamination}\n",
    "\n",
    "#Create Isolation Forest object\n",
    "LOF_model = LocalOutlierFactor()\n",
    "\n",
    "#Grid Search CV\n",
    "LOF_search = GridSearchCV(LOF_model,\n",
    "                          LOF_grid, \n",
    "                          scoring    = 'f1', \n",
    "                          cv         = kfold,\n",
    "                          verbose    = True,\n",
    "                          n_jobs     = -1).fit(X_train)"
   ]
  },
  {
   "cell_type": "code",
   "execution_count": 4,
   "id": "1c77d6b6",
   "metadata": {},
   "outputs": [
    {
     "data": {
      "text/plain": [
       "{'algorithm': 'brute',\n",
       " 'contamination': 0.03,\n",
       " 'leaf_size': 10,\n",
       " 'metric': 'minkowski',\n",
       " 'n_neighbors': 2,\n",
       " 'p': 1}"
      ]
     },
     "execution_count": 4,
     "metadata": {},
     "output_type": "execute_result"
    }
   ],
   "source": [
    "LOF_search.best_params_"
   ]
  }
 ],
 "metadata": {
  "kernelspec": {
   "display_name": "Python 3 (ipykernel)",
   "language": "python",
   "name": "python3"
  },
  "language_info": {
   "codemirror_mode": {
    "name": "ipython",
    "version": 3
   },
   "file_extension": ".py",
   "mimetype": "text/x-python",
   "name": "python",
   "nbconvert_exporter": "python",
   "pygments_lexer": "ipython3",
   "version": "3.10.4"
  }
 },
 "nbformat": 4,
 "nbformat_minor": 5
}
