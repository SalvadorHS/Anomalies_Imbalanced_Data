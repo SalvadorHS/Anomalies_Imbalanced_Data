{
 "cells": [
  {
   "cell_type": "markdown",
   "id": "192d663f",
   "metadata": {},
   "source": [
    "# One-Class SVM Tunning"
   ]
  },
  {
   "cell_type": "code",
   "execution_count": 6,
   "id": "4ee89b26",
   "metadata": {},
   "outputs": [],
   "source": [
    "import warnings\n",
    "import numpy as np \n",
    "import pandas as pd \n",
    "\n",
    "from sklearn.model_selection import KFold, GridSearchCV \n",
    "warnings.filterwarnings('ignore')\n",
    "\n",
    "df_train = pd.read_csv('train.csv')"
   ]
  },
  {
   "cell_type": "markdown",
   "id": "d652ad46",
   "metadata": {},
   "source": [
    "- Data Pre-processing"
   ]
  },
  {
   "cell_type": "code",
   "execution_count": 7,
   "id": "7bde65e6",
   "metadata": {},
   "outputs": [
    {
     "data": {
      "text/html": [
       "<div>\n",
       "<style scoped>\n",
       "    .dataframe tbody tr th:only-of-type {\n",
       "        vertical-align: middle;\n",
       "    }\n",
       "\n",
       "    .dataframe tbody tr th {\n",
       "        vertical-align: top;\n",
       "    }\n",
       "\n",
       "    .dataframe thead th {\n",
       "        text-align: right;\n",
       "    }\n",
       "</style>\n",
       "<table border=\"1\" class=\"dataframe\">\n",
       "  <thead>\n",
       "    <tr style=\"text-align: right;\">\n",
       "      <th></th>\n",
       "      <th>timestamp</th>\n",
       "      <th>value</th>\n",
       "      <th>predicted</th>\n",
       "      <th>Is_anomaly</th>\n",
       "    </tr>\n",
       "  </thead>\n",
       "  <tbody>\n",
       "    <tr>\n",
       "      <th>0</th>\n",
       "      <td>1425008573</td>\n",
       "      <td>42</td>\n",
       "      <td>44.072500</td>\n",
       "      <td>0</td>\n",
       "    </tr>\n",
       "    <tr>\n",
       "      <th>1</th>\n",
       "      <td>1425008873</td>\n",
       "      <td>41</td>\n",
       "      <td>50.709390</td>\n",
       "      <td>0</td>\n",
       "    </tr>\n",
       "    <tr>\n",
       "      <th>2</th>\n",
       "      <td>1425009173</td>\n",
       "      <td>41</td>\n",
       "      <td>81.405120</td>\n",
       "      <td>0</td>\n",
       "    </tr>\n",
       "    <tr>\n",
       "      <th>3</th>\n",
       "      <td>1425009473</td>\n",
       "      <td>61</td>\n",
       "      <td>39.950367</td>\n",
       "      <td>0</td>\n",
       "    </tr>\n",
       "    <tr>\n",
       "      <th>4</th>\n",
       "      <td>1425009773</td>\n",
       "      <td>44</td>\n",
       "      <td>35.350160</td>\n",
       "      <td>0</td>\n",
       "    </tr>\n",
       "    <tr>\n",
       "      <th>5</th>\n",
       "      <td>1425010073</td>\n",
       "      <td>27</td>\n",
       "      <td>27.713638</td>\n",
       "      <td>0</td>\n",
       "    </tr>\n",
       "    <tr>\n",
       "      <th>6</th>\n",
       "      <td>1425010373</td>\n",
       "      <td>37</td>\n",
       "      <td>41.545710</td>\n",
       "      <td>0</td>\n",
       "    </tr>\n",
       "    <tr>\n",
       "      <th>7</th>\n",
       "      <td>1425010673</td>\n",
       "      <td>36</td>\n",
       "      <td>38.743620</td>\n",
       "      <td>0</td>\n",
       "    </tr>\n",
       "    <tr>\n",
       "      <th>8</th>\n",
       "      <td>1425010973</td>\n",
       "      <td>49</td>\n",
       "      <td>40.859787</td>\n",
       "      <td>0</td>\n",
       "    </tr>\n",
       "    <tr>\n",
       "      <th>9</th>\n",
       "      <td>1425011273</td>\n",
       "      <td>36</td>\n",
       "      <td>25.444733</td>\n",
       "      <td>0</td>\n",
       "    </tr>\n",
       "  </tbody>\n",
       "</table>\n",
       "</div>"
      ],
      "text/plain": [
       "    timestamp  value  predicted  Is_anomaly\n",
       "0  1425008573     42  44.072500           0\n",
       "1  1425008873     41  50.709390           0\n",
       "2  1425009173     41  81.405120           0\n",
       "3  1425009473     61  39.950367           0\n",
       "4  1425009773     44  35.350160           0\n",
       "5  1425010073     27  27.713638           0\n",
       "6  1425010373     37  41.545710           0\n",
       "7  1425010673     36  38.743620           0\n",
       "8  1425010973     49  40.859787           0\n",
       "9  1425011273     36  25.444733           0"
      ]
     },
     "execution_count": 7,
     "metadata": {},
     "output_type": "execute_result"
    }
   ],
   "source": [
    "df_train['is_anomaly'] = df_train['is_anomaly'].replace(False,0).replace(True,1)\n",
    "df_train[\"Is_anomaly\"] = df_train['is_anomaly'].values\n",
    "\n",
    "df_train.drop('is_anomaly', axis = 1 ,inplace = True)\n",
    "\n",
    "X_train = df_train[['timestamp','value','predicted']]\n",
    "y_train = df_train['Is_anomaly']\n",
    "df_train.head(10)"
   ]
  },
  {
   "cell_type": "markdown",
   "id": "66e06f17",
   "metadata": {},
   "source": [
    "- Hyper-parameter tunning"
   ]
  },
  {
   "cell_type": "code",
   "execution_count": 3,
   "id": "9558cd9c",
   "metadata": {},
   "outputs": [
    {
     "name": "stdout",
     "output_type": "stream",
     "text": [
      "Fitting 10 folds for each of 108 candidates, totalling 1080 fits\n"
     ]
    }
   ],
   "source": [
    "from sklearn.svm import OneClassSVM\n",
    "# Specify different values for the tunning process\n",
    "kfold = KFold(n_splits = 10, shuffle = True, random_state = 99)\n",
    "\n",
    "kernel = ['rbf', 'poly', 'sigmoid','linear']\n",
    "degree = [2, 3, 4]\n",
    "gamma  = [0.001, 0.01, 0.1]\n",
    "nu     = [0.001, 0.01, 0.1]\n",
    "\n",
    "#Create parameter grid\n",
    "oneSVM_grid = [{'kernel': kernel,\n",
    "             'degree'   : degree, \n",
    "             'gamma'    : gamma,\n",
    "             'nu'       : nu}]\n",
    "\n",
    "#Create SVR object\n",
    "oneSVM_model  = OneClassSVM()\n",
    "\n",
    "#Grid Search CV\n",
    "oneSVM_search   = GridSearchCV(oneSVM_model, \n",
    "                           oneSVM_grid, \n",
    "                           scoring= 'f1', \n",
    "                           cv = kfold, \n",
    "                           verbose= True).fit(X_train)"
   ]
  },
  {
   "cell_type": "code",
   "execution_count": 5,
   "id": "c92f5754",
   "metadata": {},
   "outputs": [
    {
     "data": {
      "text/plain": [
       "{'degree': 2, 'gamma': 0.001, 'kernel': 'rbf', 'nu': 0.001}"
      ]
     },
     "execution_count": 5,
     "metadata": {},
     "output_type": "execute_result"
    }
   ],
   "source": [
    "oneSVM_search.best_params_"
   ]
  }
 ],
 "metadata": {
  "kernelspec": {
   "display_name": "Python 3 (ipykernel)",
   "language": "python",
   "name": "python3"
  },
  "language_info": {
   "codemirror_mode": {
    "name": "ipython",
    "version": 3
   },
   "file_extension": ".py",
   "mimetype": "text/x-python",
   "name": "python",
   "nbconvert_exporter": "python",
   "pygments_lexer": "ipython3",
   "version": "3.10.4"
  }
 },
 "nbformat": 4,
 "nbformat_minor": 5
}
